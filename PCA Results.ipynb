{
 "cells": [
  {
   "cell_type": "code",
   "execution_count": 8,
   "id": "bd567e4d",
   "metadata": {},
   "outputs": [],
   "source": [
    "import pandas as pd\n",
    "import numpy as np\n",
    "df = pd.read_excel('E:\\Dr. Mohandes\\SNA Paper-Client Dr. Mohandes/SNAOutputs.xlsx')\n",
    "x= df[['Betweenness Centrality','Load Centrality','Eigenvector Centrality','Closeness Centrality','Harmonic Centrality','Communicability Betweenness Centrality', 'Katz Centrality','Weighted Degree']]"
   ]
  },
  {
   "cell_type": "code",
   "execution_count": 3,
   "id": "8cb3fec5",
   "metadata": {},
   "outputs": [],
   "source": [
    "x = pd.DataFrame.to_numpy(x)"
   ]
  },
  {
   "cell_type": "code",
   "execution_count": 4,
   "id": "b19a2c00",
   "metadata": {},
   "outputs": [
    {
     "data": {
      "image/png": "[encoded data removed]",
      "text/plain": [
       "<Figure size 432x288 with 1 Axes>"
      ]
     },
     "metadata": {
      "needs_background": "light"
     },
     "output_type": "display_data"
    }
   ],
   "source": [
    "import matplotlib.pyplot as plt\n",
    "from sklearn.decomposition import PCA\n",
    "csfont = {'fontname':'Times New Roman'}\n",
    "import matplotlib.pyplot as plt\n",
    "vc_pca= PCA()\n",
    "vc_pca.fit(x)\n",
    "vc_transformed = vc_pca.transform(x)\n",
    "n_feature = range(vc_pca.n_components_)\n",
    "var_feature =vc_pca.explained_variance_\n",
    "plt.bar(n_feature,var_feature,alpha=.4,color=['black', 'red', 'green', 'cyan','green','green','green','green'],edgecolor='black')\n",
    "plt.xlabel('Principal Componemt',**csfont)\n",
    "plt.ylabel('Variance',**csfont)\n",
    "plt.xticks(n_feature)\n",
    "plt.grid(True)\n",
    "plt.show()"
   ]
  },
  {
   "cell_type": "code",
   "execution_count": 6,
   "id": "d2d867d3",
   "metadata": {},
   "outputs": [
    {
     "data": {
      "text/plain": [
       "array([9.36416136e-01, 4.05691746e-02, 1.93736477e-02, 1.88531524e-03,\n",
       "       1.09723614e-03, 5.21048510e-04, 1.34146794e-04, 3.29488464e-06])"
      ]
     },
     "execution_count": 6,
     "metadata": {},
     "output_type": "execute_result"
    }
   ],
   "source": [
    "vc_pca.explained_variance_ratio_"
   ]
  },
  {
   "cell_type": "code",
   "execution_count": 7,
   "id": "1a46b4f7",
   "metadata": {},
   "outputs": [
    {
     "name": "stdout",
     "output_type": "stream",
     "text": [
      "[[3.67761006e-01 3.67804426e-01 3.69625094e-01 3.64332591e-01\n",
      "  3.78759677e-01 3.99664753e-01 3.68645382e-01 1.44984737e-01]\n",
      " [1.29256475e-01 1.29393285e-01 3.32432402e-02 3.35160760e-02\n",
      "  2.46355753e-02 4.62157943e-03 4.09478956e-02 9.80824500e-01]\n",
      " [3.95659570e-01 3.92590940e-01 6.38387825e-01 1.10281584e-01\n",
      "  4.75425092e-02 1.48302806e-01 4.90923885e-01 6.60646864e-02]\n",
      " [4.33158140e-01 4.33185864e-01 2.11836175e-01 3.13062431e-01\n",
      "  4.71511251e-01 4.64717335e-01 1.78279739e-01 1.08501868e-01]\n",
      " [1.36802179e-02 1.94581631e-03 3.87323693e-02 5.67231574e-01\n",
      "  3.24219846e-01 7.45460026e-01 1.22753979e-01 2.56809580e-02]\n",
      " [3.57014437e-02 4.82092600e-02 2.96071520e-01 5.67981875e-01\n",
      "  6.58781000e-01 2.14719549e-01 3.25391609e-01 1.27643539e-02]\n",
      " [3.13326373e-02 8.25301730e-02 5.65960498e-01 3.33901803e-01\n",
      "  3.03031669e-01 1.95059857e-02 6.84246758e-01 1.74223347e-03]\n",
      " [7.08116276e-01 7.05025173e-01 1.97172435e-02 1.10832996e-02\n",
      "  2.02962774e-02 9.75616893e-03 2.21824589e-02 2.28238002e-04]]\n"
     ]
    }
   ],
   "source": [
    "print(abs(vc_pca.components_))"
   ]
  },
  {
   "cell_type": "code",
   "execution_count": null,
   "id": "6e7645f8",
   "metadata": {},
   "outputs": [],
   "source": []
  }
 ],
 "metadata": {
  "kernelspec": {
   "display_name": "Python 3 (ipykernel)",
   "language": "python",
   "name": "python3"
  },
  "language_info": {
   "codemirror_mode": {
    "name": "ipython",
    "version": 3
   },
   "file_extension": ".py",
   "mimetype": "text/x-python",
   "name": "python",
   "nbconvert_exporter": "python",
   "pygments_lexer": "ipython3",
   "version": "3.9.7"
  }
 },
 "nbformat": 4,
 "nbformat_minor": 5
}
